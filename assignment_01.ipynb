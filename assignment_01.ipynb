{
 "cells": [
  {
   "cell_type": "markdown",
   "id": "affe53ce",
   "metadata": {},
   "source": [
    "# Week 01\n",
    "\n",
    "This week's assignment is meant as a review and refresher of material needed for this course. This material is covered, typically, in undergraduate courses in data structures and algorithms.\n",
    "\n",
    "In class we discussed the _minimum heap property_ using a binary tree as the underlying abstract data structure. In that representation, we required that <mark>_every parent node is smaller than or equal to both its children._</mark>\n",
    "\n",
    "This data structure is a mechanism that returns always the smallest of the $n$ elements it contains, in $\\mathcal{O}(\\log_2 n)$ time. This is faster than searching for the smallest element in $\\mathcal{O}(n)$ or sorting the array in $\\mathcal{O}(n\\log_2 n)$ time.\n",
    "\n",
    "To implement this abstract data structures, we have two options. Either build a binary tree using node objects or use a plain array. A plain array is preferrable because it has a smaller memory footprint. This implementation requires parent-children relations based on array index values. These relations are given in the methods below.\n"
   ]
  },
  {
   "cell_type": "code",
   "execution_count": 11,
   "id": "d9a29d9a",
   "metadata": {},
   "outputs": [],
   "source": [
    "def left_child(parent: int) -> int:\n",
    "    return 2 * parent + 1\n",
    "\n",
    "\n",
    "def right_child(parent: int) -> int:\n",
    "    return 2 * (parent + 1)\n",
    "\n",
    "\n",
    "def parent(child: int) -> int:\n",
    "    return (child - 1) // 2"
   ]
  },
  {
   "cell_type": "markdown",
   "id": "b1473041",
   "metadata": {},
   "source": [
    "Given an array representation of the minimum heap tree, we saw that every time the heap property is violated, it can be restored with successive swaps between an offending value and its parent or children.\n"
   ]
  },
  {
   "cell_type": "code",
   "execution_count": 12,
   "id": "7a17eb00",
   "metadata": {},
   "outputs": [],
   "source": [
    "def swap(heap_array: list, i: int, j: int) -> None:\n",
    "    \"\"\"In place swap of two array elements.\"\"\"\n",
    "    if i != j:\n",
    "        temp = heap_array[i]\n",
    "        heap_array[i] = heap_array[j]\n",
    "        heap_array[j] = temp"
   ]
  },
  {
   "cell_type": "markdown",
   "id": "bd6ec815",
   "metadata": {},
   "source": [
    "The challenge now is to implement two techniques (let's say two methods) to manage the successive swaps from the top and from the bottom, when the heap property is violated.\n"
   ]
  },
  {
   "cell_type": "markdown",
   "id": "ed2466b3",
   "metadata": {},
   "source": [
    "### Formalising the heap property\n",
    "\n",
    "The heap property can be expresses, a bit more formally, as a boolean expression.\n",
    "\n",
    "```python\n",
    "# min heap property: parent is smaller than or equal to both children\n",
    "min_heap_observed = (\n",
    "    heap_array[parent] <= heap_array[left_child(parent)]\n",
    "    and heap_array[parent] <= heap_array[right_child(parent)]\n",
    ")\n",
    "```\n",
    "\n",
    "Alternatively, we can write\n",
    "\n",
    "```python\n",
    "heap_property_violated = (\n",
    "    heap_array[parent] > heap_array[left_child(parent)]\n",
    "    or heap_array[parent] > heap_array[right_child(parent)]\n",
    ")\n",
    "```\n"
   ]
  },
  {
   "cell_type": "markdown",
   "id": "01631a99",
   "metadata": {},
   "source": [
    "### When is the heap property violated?\n",
    "\n",
    "The heap property may be violated when we add a new element to the array. It is also violated when we remove its first element, and we fill the resulting gap with the last element in the array.\n",
    "\n",
    "#### Adding an element to the heap\n",
    "\n",
    "A new element is added to the next available position in the underlying heap array. As we discussed in class, we prepare an array with enough elements to accommodate a binary tree with $M$ levels. It can be proven, with mathemagical induction, that for such a tree we need an array of length $2^M-1$.\n",
    "\n",
    "Elements are added to the array from left to right -- so we need to keep track of the next available position. To do so, we introduce a variable to count the elements used in the array:\n",
    "\n",
    "```python\n",
    "element_counter = 0\n",
    "```\n",
    "\n",
    "Every time we add an element to the heap array, we increment the counter by 1. The current value of this counter also tell us where to place the next element in the array -- i.e., the next available position. Obviously, we need to be careful and ensure that `element_counter < len(heap_array)` if we use Java or another language with fixed-size arrays. In Python arrays (ok, lists) are dynamic, so we don't have to worry about running out of space. But we still need to track where to place the new element and what's the total number of elements in the underlying heap array.\n",
    "\n",
    "Now we can sketch a method for adding new data to the minimum heap -- we assume the heap stores strings, like the example we did in class. Treat the code below as pseudocode.\n",
    "\n",
    "```python\n",
    "def add(text: str) -> None:\n",
    "    if element_counter < len(heap_array):\n",
    "        heap_array[element_counter] = text\n",
    "        element_counter += 1\n",
    "        # heap property violated?\n",
    "        if (heap_property_violated):\n",
    "            # Do something to restore the heap property\n",
    "```"
   ]
  },
  {
   "cell_type": "markdown",
   "id": "09764f24",
   "metadata": {},
   "source": [
    "#### Removing an element from the heap\n",
    "\n",
    "We can only remove, and return, the first element of the heap -- it's guaranteed to have the smallest value among all elements stored in the heap. Once the first element of the heap is removed, the position at index 0 becomes vacant. We fill it with the last element of the heap. Then we check to see if the newly placed element violates the minimum heap property. If it does, we go through the necessary swaps to restore it.\n",
    "\n",
    "The removal method can be sketched as follows.\n",
    "\n",
    "```python\n",
    "def remove() -> str | None:\n",
    "    removed = None\n",
    "    if element_counter > 0:\n",
    "        removed = heap_array[0]\n",
    "        heap_array[0] = heap_array[element_counter - 1]\n",
    "        element_counter -= 1\n",
    "        if element_counter and heap_property_violated:\n",
    "            # Do something to restore the heap property\n",
    "    return removed\n",
    "```"
   ]
  },
  {
   "cell_type": "markdown",
   "id": "153b78f5",
   "metadata": {},
   "source": [
    "### Your assignment\n",
    "\n",
    "For this assignment, you will implement a fully functional **minimum heap** program. You may design it as an object or as a collection of functions that operate on an array — the choice is yours.  \n",
    "\n",
    "Your final program must support the following operations:  \n",
    "\n",
    "* **Add** a new element to the heap array.  \n",
    "* **Remove and return** the smallest element from the heap array.  \n",
    "* **Restore the minimum-heap property** after inserting a new element.  \n",
    "* **Restore the minimum-heap property** after removing the smallest element.  \n",
    "* **Return the number of elements** currently stored in the heap.  \n",
    "* **Return (without removing)** the smallest element of the heap.  \n",
    "\n",
    "#### Heap Property Maintenance\n",
    " \n",
    "The **minimum-heap property** can be violated in two cases:  \n",
    "\n",
    "1. **After insertion** of a new element:\n",
    "\n",
    "   * Restoration starts **from the bottom of the tree and moves upward**.\n",
    "   * In array terms, this means starting at the last element and working toward the front.\n",
    "\n",
    "2. **After removal** of the smallest element:\n",
    "\n",
    "   * Restoration starts **from the top of the tree and moves downward**.\n",
    "   * In array terms, this means starting at the first element and working toward the back.\n",
    "\n"
   ]
  }
 ],
 "metadata": {
  "kernelspec": {
   "display_name": "Python 3",
   "language": "python",
   "name": "python3"
  },
  "language_info": {
   "codemirror_mode": {
    "name": "ipython",
    "version": 3
   },
   "file_extension": ".py",
   "mimetype": "text/x-python",
   "name": "python",
   "nbconvert_exporter": "python",
   "pygments_lexer": "ipython3",
   "version": "3.12.1"
  }
 },
 "nbformat": 4,
 "nbformat_minor": 5
}
